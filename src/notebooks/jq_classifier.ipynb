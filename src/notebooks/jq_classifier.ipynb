{
 "cells": [
  {
   "cell_type": "code",
   "execution_count": 1,
   "metadata": {},
   "outputs": [],
   "source": [
    "import pickle\n",
    "import matplotlib.pyplot as plt\n",
    "import numpy as np\n",
    "filename = '/datasets/home/home-01/41/041/jeq004/streaming_provider_classifier_inside_vpn/data/out/model.pkl'"
   ]
  },
  {
   "cell_type": "code",
   "execution_count": 2,
   "metadata": {},
   "outputs": [
    {
     "data": {
      "text/plain": [
       "'/home/jeq004/streaming_provider_classifier_inside_vpn/src/notebooks'"
      ]
     },
     "execution_count": 2,
     "metadata": {},
     "output_type": "execute_result"
    }
   ],
   "source": [
    "import os\n",
    "os.getcwd()"
   ]
  },
  {
   "cell_type": "code",
   "execution_count": 3,
   "metadata": {},
   "outputs": [],
   "source": [
    "loaded_model = pickle.load(open(filename, 'rb'))"
   ]
  },
  {
   "cell_type": "code",
   "execution_count": 4,
   "metadata": {},
   "outputs": [
    {
     "data": {
      "text/plain": [
       "array([0.13298706, 0.11930629, 0.06467722, 0.17125675, 0.04959954,\n",
       "       0.0541056 , 0.05694508, 0.04946787, 0.04277602, 0.04519881,\n",
       "       0.07296547, 0.04125699, 0.09945732])"
      ]
     },
     "execution_count": 4,
     "metadata": {},
     "output_type": "execute_result"
    }
   ],
   "source": [
    "loaded_model.feature_importances_"
   ]
  },
  {
   "cell_type": "code",
   "execution_count": 5,
   "metadata": {},
   "outputs": [],
   "source": [
    "features = [\n",
    "        'smoothed_mean_delay_10s',\n",
    "        'smoothed_mean_delay_60s',\n",
    "        'received_mean_size',\n",
    "        'sent_mean_size',\n",
    "        'sent_small_prop',\n",
    "        'received_large_prop',\n",
    "        'received_small_prop',\n",
    "        'max_frequency_prominence',\n",
    "        'ft1',\n",
    "        'ft2',\n",
    "        'ft3',\n",
    "        'download_bytes_cv',\n",
    "        'upload_bytes_cv'    ]\n",
    "features = np.array(features)"
   ]
  },
  {
   "cell_type": "code",
   "execution_count": 6,
   "metadata": {},
   "outputs": [
    {
     "data": {
      "image/png": "[encoded data removed]",
      "text/plain": [
       "<Figure size 432x288 with 1 Axes>"
      ]
     },
     "metadata": {
      "needs_background": "light"
     },
     "output_type": "display_data"
    }
   ],
   "source": [
    "sorted_idx = loaded_model.feature_importances_.argsort()\n",
    "plt.barh(features[sorted_idx], loaded_model.feature_importances_[sorted_idx] * 100)\n",
    "plt.xlabel(\"Feature Importance (%)\")\n",
    "plt.title('Feature Importances');"
   ]
  },
  {
   "cell_type": "code",
   "execution_count": 7,
   "metadata": {},
   "outputs": [],
   "source": [
    "y_pred = [ 2,  3,  4,  2, -1,  2,  3, -1,  4,  4, -1,  2,  2,  2, -1, -1,  2,  4,\n",
    "  3, -1,  2,  4, -1,  3, -1,  4,  2, -1,  4,  3, -1, -1,  3,  2,  2, -1,\n",
    " -1, -1, -1,  4, -1,  2, -1, -1,  3, -1, -1, -1, -1,  3,  2,  2,  2, -1,\n",
    "  3,  4,  4, -1, -1,  2,  2,  3,  4,  2, -1, -1,  2,  3, -1, -1, -1, -1,\n",
    " -1,  2,  2, -1,  3, -1, -1,  2,  2, -1,  2, -1, -1,  3, -1,  3, -1, -1,\n",
    "  2, -1, -1,  4,  2, -1, -1, -1, -1,  4,  3, -1,  3,  2,  2,  4, -1, -1,\n",
    "  4,  2, -1,  4, -1,  3,  2, -1,  3,  3, -1,  4,  3,  2, -1,  3,  3,  2,\n",
    "  3,  2, -1, -1, -1,  2,  4,  4,  2, -1,  2,  4,  3,  3, -1, -1,  4, -1,\n",
    "  3, -1,  4, -1,  4,  2,  2, -1,  3, -1,  4, -1,  4, -1,  2, -1, -1, -1,\n",
    " -1,  3, -1,  2,  2, -1, -1,  2, -1, -1, -1, -1,  2, -1, -1,  3,  2, -1,\n",
    " -1,  3, -1, -1,  2,  3,  4, -1, -1,  3, -1,  2,  2,  4, -1,  4,  3,  3,\n",
    " -1,  4, -1,  2, -1, -1, -1,  2,  3, -1, -1, -1, -1,  3, -1,  3, -1,  3,\n",
    " -1, -1, -1, -1,  3,  2, -1,  4,  3,  2,  3, -1, -1,  2,  4, -1, -1, -1,\n",
    "  2,  3,  3, -1,  2,  3,  2,  4,  2, -1, -1,  4, -1,  2,  2,  2, -1,  4,\n",
    "  2, -1, -1, -1, -1, -1, -1, -1,  2,  3, -1,  2, -1, -1, -1,  4,  4,  3,\n",
    " -1,  3,  3,  3,  2, -1,  3, -1,  2, -1,  4,  2, -1, -1, -1, -1, -1, -1,\n",
    "  4,  2, -1, -1,  2, -1, -1,  2, -1,  2,  4,  3,  2, -1,  3, -1, -1, -1,\n",
    "  3,  4, -1,  3,  2,  4, -1,  4, -1,  4, -1, -1,  2, -1, -1,  2,  2,  2,\n",
    " -1, -1, -1, -1,  2,  2, -1, -1,  2,  3,  2,  2, -1, -1, -1,  3,  2,  3,\n",
    " -1,  2,  4,  2, -1,  2,  2,  2, -1, -1, -1,  3,  3, -1,  2, -1,  2, -1,\n",
    "  3, -1,  4,  4,  2,  2, -1,  2, -1, -1, -1,  4, -1, -1,  2, -1,  2, -1,\n",
    "  2,  2,  3, -1, -1, -1,  3,  2,  3, -1, -1, -1, -1,  2, -1, -1,  2,  3,\n",
    "  2,  3,  2,  3,  2,  2,  3, -1,  3, -1,  3,  2,  2, -1, -1,  4, -1,  3,\n",
    " -1, -1,  2, -1, -1, -1, -1, -1, -1, -1, -1, -1, -1, -1, -1,  3,  2,  2,\n",
    " -1, -1,  2, -1, -1, -1, -1,  4, -1, -1, -1,  3, -1, -1,  2, -1,  3, -1,\n",
    " -1,  3, -1,  2, -1,  2, -1, -1, -1,  3,  2,  3,  2,  4,  2, -1, -1,  4,\n",
    "  3,  2, -1, -1, -1,  2,  3, -1,  2,  2,  4,  3,  2, -1,  2, -1, -1, -1,\n",
    "  4,  4, -1,  3, -1,  2,  2,  3,  2,  3,  2,  2,  3, -1,  2,  2,  4, -1,\n",
    "  3, -1,  3, -1,  2, -1,  3,  2, -1,  4,  4, -1,  3, -1, -1,  3,  3,  2,\n",
    " -1,  3,  2, -1, -1, -1, -1, -1,  3, -1, -1, -1, -1,  4, -1,  4,  2,  4,\n",
    "  2, -1, -1,  2, -1,  2,  4,  4,  2, -1,  4, -1,  2, -1,  2, -1,  2,  3,\n",
    "  4, -1,  3,  2, -1, -1,  3,  2,  4,  2, -1, -1, -1,  3,  2,  3, -1,  2,\n",
    "  2, -1,  3, -1,  2,  2, -1, -1,  4,  2,  3,  2, -1, -1, -1,  3, -1,  2,\n",
    "  2,  2,  3,  3,  4, -1, -1, -1,  3, -1, -1, -1, -1,  4, -1,  3,  2,  4,\n",
    "  4, -1, -1,  2, -1, -1,  3,  2,  4,  2,  3, -1,  2,  2, -1,  2, -1, -1,\n",
    " -1, -1, -1,  2, -1, -1, -1,  3,  3,  4,  2, -1, -1, -1,  2,  3,  3, -1,\n",
    " -1, -1,  2,  3, -1,  4,  4, -1, -1, -1,  2, -1,  4, -1,  2, -1, -1, -1,\n",
    " -1, -1,  3,  2, -1,  3,  3, -1,  2, -1,  4,  3, -1, -1,  4,  3,  3, -1,\n",
    " -1, -1, -1, -1, -1, -1,  2, -1,  3, -1, -1,  2,  2, -1,  3,  3,  2,  3,\n",
    "  2, -1, -1, -1, -1,  2,  2,  2,  3, -1,  4, -1, -1,  2, -1, -1, -1, -1,\n",
    "  3, -1,  3,  4,  2,  4,  3,  2, -1, -1,  2, -1, -1, -1, -1,  3,  2,  4,\n",
    " -1,  2,  2,  2, -1,  2, -1, -1,  4,  3,  2, -1, -1,  2, -1,  2,  3, -1,\n",
    " -1,  2, -1,  2,  2, -1,  4, -1,  2,  4, -1, -1,  4, -1,  2,  2, -1, -1,\n",
    " -1, -1, -1,  4,  2,  3,  4,  4,  4, -1,  2,  4,  4, -1, -1,  2,  2,  3,\n",
    " -1,  2, -1,  4, -1]"
   ]
  },
  {
   "cell_type": "code",
   "execution_count": 8,
   "metadata": {},
   "outputs": [],
   "source": [
    "y_test = [ 2,  3,  4,  2, -1,  2,  3, -1,  4,  4, -1,  2,  2,  2, -1, -1,  2,  4,\n",
    "  3, -1,  2,  4, -1,  3, -1,  4,  2, -1,  4,  3, -1, -1,  3,  2,  2, -1,\n",
    " -1, -1, -1,  4, -1,  2,  3, -1,  3, -1, -1, -1, -1,  3,  2,  2,  2, -1,\n",
    "  3,  4,  4, -1, -1,  2,  2,  3,  4,  2, -1,  3,  2,  3, -1, -1, -1, -1,\n",
    " -1,  2,  2, -1,  3, -1, -1,  2,  2, -1,  2, -1, -1,  2, -1,  3, -1, -1,\n",
    "  2, -1, -1,  4,  2, -1, -1, -1, -1,  4,  3, -1,  3,  2,  2,  4, -1, -1,\n",
    "  4,  2,  3,  4, -1,  3,  2, -1,  3,  3, -1,  4,  3, -1, -1,  3,  3,  2,\n",
    "  3,  2, -1, -1, -1,  2,  4,  4,  2, -1,  2,  4,  3,  3, -1, -1,  4, -1,\n",
    "  3, -1,  4, -1,  4,  2,  2, -1,  3, -1,  4, -1,  4, -1,  2, -1, -1, -1,\n",
    " -1,  3, -1,  2,  2, -1, -1,  2, -1,  2, -1, -1,  2, -1, -1,  3,  2, -1,\n",
    " -1,  3, -1, -1,  2,  3,  4, -1, -1,  3, -1,  2,  2,  4, -1,  4,  3,  3,\n",
    "  3,  4, -1,  2, -1, -1, -1,  2,  3, -1, -1, -1, -1,  3, -1,  3, -1,  3,\n",
    " -1, -1, -1, -1,  3,  2, -1,  4,  3,  2,  3, -1, -1,  2,  4, -1, -1, -1,\n",
    "  2,  3,  3,  3,  2,  3,  2,  4,  2, -1, -1,  4, -1,  2,  2,  2, -1,  4,\n",
    "  2, -1, -1, -1, -1, -1, -1, -1,  2,  3, -1,  2, -1,  2, -1,  4,  4,  3,\n",
    " -1,  3,  3,  3,  2, -1,  3, -1,  2, -1,  4,  2, -1, -1, -1, -1, -1, -1,\n",
    "  4,  2, -1, -1,  2, -1, -1,  2, -1,  2,  4,  3,  2, -1,  3, -1, -1, -1,\n",
    "  3,  4, -1,  3,  2,  4, -1,  4, -1,  4, -1, -1,  2, -1, -1,  2,  2,  2,\n",
    " -1,  3, -1, -1,  2,  2, -1, -1,  2,  3,  2,  2, -1, -1, -1,  4,  2,  3,\n",
    " -1,  2,  4,  2, -1,  2,  2,  2, -1,  3, -1,  3,  3, -1,  2, -1,  2, -1,\n",
    "  3, -1,  4,  4,  2,  2, -1,  2, -1, -1, -1,  4, -1, -1,  2, -1,  2, -1,\n",
    "  2,  2,  3, -1, -1, -1,  3,  2,  3, -1, -1, -1, -1,  2, -1, -1,  2,  3,\n",
    "  2,  3,  2,  3,  2,  2,  3, -1,  3, -1,  3,  2,  2, -1, -1,  4, -1,  3,\n",
    " -1, -1, -1, -1, -1, -1, -1, -1, -1, -1, -1, -1, -1, -1, -1,  3,  2,  2,\n",
    " -1, -1,  2, -1, -1, -1, -1,  4, -1, -1, -1,  3, -1, -1,  2,  3,  3, -1,\n",
    " -1,  3, -1,  2, -1,  2, -1, -1, -1,  3,  2,  3,  2,  4,  2, -1, -1,  4,\n",
    "  3,  2, -1, -1, -1,  2,  3, -1,  2,  2,  4,  3,  2, -1,  2, -1, -1, -1,\n",
    "  4,  4, -1,  3, -1,  2,  2,  3,  2,  3,  2,  2,  3, -1,  2,  2,  4, -1,\n",
    "  3, -1,  3, -1,  2, -1,  3,  2, -1,  3,  4, -1,  3, -1, -1,  3,  3,  2,\n",
    " -1,  3,  2, -1, -1, -1, -1, -1,  3, -1, -1, -1,  2,  4, -1,  4,  2,  4,\n",
    "  2, -1, -1,  2, -1,  2,  4,  4,  2, -1,  4, -1,  2, -1,  2, -1,  2,  3,\n",
    "  4, -1,  3,  2, -1, -1,  3,  2,  3,  2, -1, -1, -1,  3,  2,  3, -1,  2,\n",
    "  2, -1,  3, -1,  2,  2, -1, -1,  4,  2,  3,  2, -1, -1, -1,  3, -1,  2,\n",
    "  2,  2,  3,  3,  4, -1, -1, -1,  3, -1, -1, -1, -1,  4, -1,  3,  2,  4,\n",
    "  4, -1, -1,  2, -1, -1,  3,  2,  4,  2,  3, -1,  2,  2, -1,  2, -1, -1,\n",
    " -1, -1, -1,  2, -1, -1, -1,  3,  3,  4,  2,  2, -1, -1,  2,  3,  3, -1,\n",
    " -1, -1,  2,  3, -1,  4,  4, -1, -1, -1,  2, -1,  4, -1,  2, -1,  2, -1,\n",
    " -1, -1,  3,  2, -1,  3,  3, -1,  2, -1,  4,  3, -1, -1,  4,  3,  3, -1,\n",
    " -1, -1, -1, -1, -1, -1,  2, -1, -1, -1, -1,  2,  2, -1,  3,  3,  2,  3,\n",
    "  2, -1, -1, -1, -1,  2,  2,  2,  3, -1,  4, -1, -1,  2, -1, -1, -1, -1,\n",
    "  3, -1,  3,  4,  2,  4,  3,  2, -1, -1,  2, -1, -1, -1, -1,  3,  2,  4,\n",
    " -1,  2,  2,  2, -1,  2, -1, -1,  4,  3, -1, -1, -1,  2, -1,  2,  3, -1,\n",
    " -1,  2, -1,  2,  2, -1,  4, -1,  2,  4, -1, -1,  4, -1,  2,  2, -1, -1,\n",
    " -1, -1, -1,  4,  2,  3,  4,  4,  4, -1,  2,  4,  4, -1, -1,  2,  2,  3,\n",
    " -1,  2, -1,  4, -1]"
   ]
  },
  {
   "cell_type": "code",
   "execution_count": 9,
   "metadata": {},
   "outputs": [
    {
     "ename": "ValueError",
     "evalue": "Number of classes, 4, does not match size of target_names, 6. Try specifying the labels parameter",
     "output_type": "error",
     "traceback": [
      "\u001b[0;31m\u001b[0m",
      "\u001b[0;31mValueError\u001b[0mTraceback (most recent call last)",
      "\u001b[0;32m<ipython-input-9-d9e6bd2af62a>\u001b[0m in \u001b[0;36m<module>\u001b[0;34m\u001b[0m\n\u001b[1;32m      1\u001b[0m \u001b[0;32mfrom\u001b[0m \u001b[0msklearn\u001b[0m\u001b[0;34m.\u001b[0m\u001b[0mmetrics\u001b[0m \u001b[0;32mimport\u001b[0m \u001b[0mclassification_report\u001b[0m\u001b[0;34m\u001b[0m\u001b[0;34m\u001b[0m\u001b[0m\n\u001b[1;32m      2\u001b[0m \u001b[0mtarget_names\u001b[0m \u001b[0;34m=\u001b[0m \u001b[0;34m[\u001b[0m\u001b[0;34m'other'\u001b[0m\u001b[0;34m,\u001b[0m \u001b[0;34m'youtube'\u001b[0m\u001b[0;34m,\u001b[0m \u001b[0;34m'amazonprime'\u001b[0m\u001b[0;34m,\u001b[0m \u001b[0;34m'netflix'\u001b[0m\u001b[0;34m,\u001b[0m \u001b[0;34m'youtube-live'\u001b[0m\u001b[0;34m,\u001b[0m \u001b[0;34m'twitch-live'\u001b[0m\u001b[0;34m]\u001b[0m\u001b[0;34m\u001b[0m\u001b[0;34m\u001b[0m\u001b[0m\n\u001b[0;32m----> 3\u001b[0;31m \u001b[0mprint\u001b[0m\u001b[0;34m(\u001b[0m\u001b[0mclassification_report\u001b[0m\u001b[0;34m(\u001b[0m\u001b[0my_test\u001b[0m\u001b[0;34m,\u001b[0m \u001b[0my_pred\u001b[0m\u001b[0;34m,\u001b[0m \u001b[0mtarget_names\u001b[0m\u001b[0;34m=\u001b[0m\u001b[0mtarget_names\u001b[0m\u001b[0;34m)\u001b[0m\u001b[0;34m)\u001b[0m\u001b[0;34m\u001b[0m\u001b[0;34m\u001b[0m\u001b[0m\n\u001b[0m",
      "\u001b[0;32m/opt/conda/lib/python3.7/site-packages/sklearn/metrics/_classification.py\u001b[0m in \u001b[0;36mclassification_report\u001b[0;34m(y_true, y_pred, labels, target_names, sample_weight, digits, output_dict, zero_division)\u001b[0m\n\u001b[1;32m   1993\u001b[0m                 \u001b[0;34m\"Number of classes, {0}, does not match size of \"\u001b[0m\u001b[0;34m\u001b[0m\u001b[0;34m\u001b[0m\u001b[0m\n\u001b[1;32m   1994\u001b[0m                 \u001b[0;34m\"target_names, {1}. Try specifying the labels \"\u001b[0m\u001b[0;34m\u001b[0m\u001b[0;34m\u001b[0m\u001b[0m\n\u001b[0;32m-> 1995\u001b[0;31m                 \u001b[0;34m\"parameter\"\u001b[0m\u001b[0;34m.\u001b[0m\u001b[0mformat\u001b[0m\u001b[0;34m(\u001b[0m\u001b[0mlen\u001b[0m\u001b[0;34m(\u001b[0m\u001b[0mlabels\u001b[0m\u001b[0;34m)\u001b[0m\u001b[0;34m,\u001b[0m \u001b[0mlen\u001b[0m\u001b[0;34m(\u001b[0m\u001b[0mtarget_names\u001b[0m\u001b[0;34m)\u001b[0m\u001b[0;34m)\u001b[0m\u001b[0;34m\u001b[0m\u001b[0;34m\u001b[0m\u001b[0m\n\u001b[0m\u001b[1;32m   1996\u001b[0m             )\n\u001b[1;32m   1997\u001b[0m     \u001b[0;32mif\u001b[0m \u001b[0mtarget_names\u001b[0m \u001b[0;32mis\u001b[0m \u001b[0;32mNone\u001b[0m\u001b[0;34m:\u001b[0m\u001b[0;34m\u001b[0m\u001b[0;34m\u001b[0m\u001b[0m\n",
      "\u001b[0;31mValueError\u001b[0m: Number of classes, 4, does not match size of target_names, 6. Try specifying the labels parameter"
     ]
    }
   ],
   "source": [
    "from sklearn.metrics import classification_report\n",
    "target_names = ['other', 'youtube', 'amazonprime', 'netflix', 'youtube-live', 'twitch-live']\n",
    "print(classification_report(y_test, y_pred, target_names=target_names))"
   ]
  },
  {
   "cell_type": "code",
   "execution_count": 11,
   "metadata": {},
   "outputs": [
    {
     "ename": "NameError",
     "evalue": "name 'datasets' is not defined",
     "output_type": "error",
     "traceback": [
      "\u001b[0;31m\u001b[0m",
      "\u001b[0;31mNameError\u001b[0mTraceback (most recent call last)",
      "\u001b[0;32m<ipython-input-11-b1bd3b99bb3a>\u001b[0m in \u001b[0;36m<module>\u001b[0;34m\u001b[0m\n\u001b[1;32m      2\u001b[0m \u001b[0;34m\u001b[0m\u001b[0m\n\u001b[1;32m      3\u001b[0m \u001b[0;31m# import some data to play with\u001b[0m\u001b[0;34m\u001b[0m\u001b[0;34m\u001b[0m\u001b[0;34m\u001b[0m\u001b[0m\n\u001b[0;32m----> 4\u001b[0;31m \u001b[0miris\u001b[0m \u001b[0;34m=\u001b[0m \u001b[0mdatasets\u001b[0m\u001b[0;34m.\u001b[0m\u001b[0mload_iris\u001b[0m\u001b[0;34m(\u001b[0m\u001b[0;34m)\u001b[0m\u001b[0;34m\u001b[0m\u001b[0;34m\u001b[0m\u001b[0m\n\u001b[0m\u001b[1;32m      5\u001b[0m \u001b[0mX\u001b[0m \u001b[0;34m=\u001b[0m \u001b[0miris\u001b[0m\u001b[0;34m.\u001b[0m\u001b[0mdata\u001b[0m\u001b[0;34m\u001b[0m\u001b[0;34m\u001b[0m\u001b[0m\n\u001b[1;32m      6\u001b[0m \u001b[0my\u001b[0m \u001b[0;34m=\u001b[0m \u001b[0miris\u001b[0m\u001b[0;34m.\u001b[0m\u001b[0mtarget\u001b[0m\u001b[0;34m\u001b[0m\u001b[0;34m\u001b[0m\u001b[0m\n",
      "\u001b[0;31mNameError\u001b[0m: name 'datasets' is not defined"
     ]
    }
   ],
   "source": [
    "from sklearn.metrics import plot_confusion_matrix\n",
    "\n",
    "# import some data to play with\n",
    "iris = datasets.load_iris()\n",
    "X = iris.data\n",
    "y = iris.target\n",
    "class_names = iris.target_names\n",
    "\n",
    "# Split the data into a training set and a test set\n",
    "X_train, X_test, y_train, y_test = train_test_split(X, y, random_state=0)\n",
    "\n",
    "# Run classifier, using a model that is too regularized (C too low) to see\n",
    "# the impact on the results\n",
    "classifier = svm.SVC(kernel='linear', C=0.01).fit(X_train, y_train)\n",
    "\n",
    "np.set_printoptions(precision=2)\n",
    "\n",
    "# Plot non-normalized confusion matrix\n",
    "titles_options = [(\"Confusion matrix, without normalization\", None),\n",
    "                  (\"Normalized confusion matrix\", 'true')]\n",
    "for title, normalize in titles_options:\n",
    "    disp = plot_confusion_matrix(classifier, X_test, y_test,\n",
    "                                 display_labels=class_names,\n",
    "                                 cmap=plt.cm.Blues,\n",
    "                                 normalize=normalize)\n",
    "    disp.ax_.set_title(title)\n",
    "\n",
    "    print(title)\n",
    "    print(disp.confusion_matrix)\n",
    "\n",
    "plt.show()"
   ]
  },
  {
   "cell_type": "code",
   "execution_count": null,
   "metadata": {},
   "outputs": [],
   "source": []
  }
 ],
 "metadata": {
  "kernelspec": {
   "display_name": "Python 3 (clean)",
   "language": "python",
   "name": "python3_clean"
  },
  "language_info": {
   "codemirror_mode": {
    "name": "ipython",
    "version": 3
   },
   "file_extension": ".py",
   "mimetype": "text/x-python",
   "name": "python",
   "nbconvert_exporter": "python",
   "pygments_lexer": "ipython3",
   "version": "3.7.6"
  }
 },
 "nbformat": 4,
 "nbformat_minor": 4
}
