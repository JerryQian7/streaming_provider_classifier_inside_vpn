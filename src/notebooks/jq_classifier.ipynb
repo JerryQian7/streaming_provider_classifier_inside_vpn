{
 "cells": [
  {
   "cell_type": "code",
   "execution_count": 10,
   "metadata": {},
   "outputs": [],
   "source": [
    "import pickle\n",
    "import matplotlib.pyplot as plt\n",
    "import numpy as np\n",
    "filename = '/datasets/home/home-01/41/041/jeq004/streaming_provider_classifier_inside_vpn/data/out/model.pkl'"
   ]
  },
  {
   "cell_type": "code",
   "execution_count": 11,
   "metadata": {},
   "outputs": [
    {
     "data": {
      "text/plain": [
       "'/home/jeq004/streaming_provider_classifier_inside_vpn/src/notebooks'"
      ]
     },
     "execution_count": 11,
     "metadata": {},
     "output_type": "execute_result"
    }
   ],
   "source": [
    "import os\n",
    "os.getcwd()"
   ]
  },
  {
   "cell_type": "code",
   "execution_count": 12,
   "metadata": {},
   "outputs": [],
   "source": [
    "loaded_model = pickle.load(open(filename, 'rb'))"
   ]
  },
  {
   "cell_type": "code",
   "execution_count": 13,
   "metadata": {},
   "outputs": [
    {
     "data": {
      "text/plain": [
       "array([0.15291818, 0.12373067, 0.06111002, 0.11920708, 0.05356754,\n",
       "       0.06964571, 0.06000674, 0.04554366, 0.04742539, 0.04179801,\n",
       "       0.06150875, 0.0491917 , 0.11434655])"
      ]
     },
     "execution_count": 13,
     "metadata": {},
     "output_type": "execute_result"
    }
   ],
   "source": [
    "loaded_model.feature_importances_"
   ]
  },
  {
   "cell_type": "code",
   "execution_count": 14,
   "metadata": {},
   "outputs": [],
   "source": [
    "features = [\n",
    "        'smoothed_mean_delay_10s',\n",
    "        'smoothed_mean_delay_60s',\n",
    "        'received_mean_size',\n",
    "        'sent_mean_size',\n",
    "        'sent_small_prop',\n",
    "        'received_large_prop',\n",
    "        'received_small_prop',\n",
    "        'max_frequency_prominence',\n",
    "        'ft1',\n",
    "        'ft2',\n",
    "        'ft3',\n",
    "        'download_bytes_cv',\n",
    "        'upload_bytes_cv'    ]\n",
    "features = np.array(features)"
   ]
  },
  {
   "cell_type": "code",
   "execution_count": 15,
   "metadata": {},
   "outputs": [
    {
     "data": {
      "image/png": "[encoded data removed]",
      "text/plain": [
       "<Figure size 432x288 with 1 Axes>"
      ]
     },
     "metadata": {
      "needs_background": "light"
     },
     "output_type": "display_data"
    }
   ],
   "source": [
    "sorted_idx = loaded_model.feature_importances_.argsort()\n",
    "plt.barh(features[sorted_idx], loaded_model.feature_importances_[sorted_idx] * 100)\n",
    "plt.xlabel(\"Feature Importance (%)\")\n",
    "plt.title('Feature Importances');"
   ]
  },
  {
   "cell_type": "code",
   "execution_count": 16,
   "metadata": {},
   "outputs": [],
   "source": [
    "y_pred = [ 2,  1, -1,  2,  1,  3,  1,  1,  2,  0,  0,  2,  4,  2, -1,  0,  2,  3,\n",
    " -1, -1,  3,  4,  0, -1,  3,  1,  0, -1, -1,  0,  4, -1, -1,  2,  0,  2,\n",
    " -1,  4,  2,  1,  1,  0, -1,  4,  1, -1,  2, -1,  3,  1,  1,  4,  4,  2,\n",
    "  3,  0,  4,  2,  4, -1,  0,  2,  4, -1,  3,  0,  4, -1, -1,  0,  0,  0,\n",
    "  1,  1, -1,  2,  1,  0, -1,  1, -1,  1,  2,  3, -1, -1,  2,  1,  2,  2,\n",
    "  1, -1,  3,  3,  3,  1,  2,  3,  3,  1,  1,  1, -1,  0, -1,  1,  0,  4,\n",
    "  4,  1,  4,  0,  4,  2,  2,  3,  4,  3,  1,  2,  2,  1,  3,  0, -1,  1,\n",
    "  1,  0,  0,  2,  3,  0,  1,  1,  3,  3,  2,  2,  3,  0, -1,  0,  1,  0,\n",
    "  4,  1, -1,  2,  3,  0,  0,  1,  2,  2,  2,  2,  4,  1,  3,  1,  4,  4,\n",
    "  0,  1,  4,  1,  3,  1,  1,  1,  2,  3,  3, -1,  1,  3,  4,  1,  3,  4,\n",
    "  2,  2,  4,  0,  1,  2,  0,  0,  2,  1,  2,  0,  3,  0, -1,  2,  0,  3,\n",
    "  2,  3,  4,  0,  0,  0,  2,  4,  2, -1,  1, -1,  0, -1,  2,  4,  4,  4,\n",
    "  1,  0,  2,  4,  0,  2, -1,  3,  0,  3,  2,  1,  3,  1,  1,  3,  3,  2,\n",
    "  2,  4,  2,  4,  4, -1,  2,  2,  2,  0,  2,  0,  0,  0,  2,  3,  4,  2,\n",
    "  2,  3,  2,  2, -1,  2,  0,  3,  3,  3,  0,  3, -1, -1,  1,  1,  0,  1,\n",
    " -1, -1,  3,  3,  1,  4,  3,  0,  4,  4,  3, -1,  2,  0,  3,  2,  1,  1,\n",
    "  3,  1, -1,  2,  1, -1,  1,  3,  2,  0,  2,  1,  0,  2,  0,  1,  2,  3,\n",
    "  3,  2,  3,  2,  0,  2, -1,  3,  0, -1,  2, -1,  2,  1,  2,  1,  0,  2,\n",
    "  0,  3, -1,  3,  2,  4,  4,  3,  4, -1, -1,  0,  2,  1,  2, -1,  2, -1,\n",
    "  0,  2,  0,  2, -1, -1,  1, -1,  0,  2,  2,  2,  2,  2,  2, -1,  0,  2,\n",
    "  3,  3,  4,  1,  0,  1,  3, -1, -1, -1,  3,  3, -1,  3,  2,  1,  3,  2,\n",
    " -1,  2,  3,  2,  3,  2,  4,  1,  1,  3,  3,  1,  2,  0,  3, -1,  4,  1,\n",
    "  3, -1, -1,  2,  2,  1,  2,  2,  4,  3,  2,  2, -1,  2,  2,  0,  3,  3,\n",
    "  2,  0, -1,  3,  3, -1,  2, -1,  4,  4,  1,  0,  2,  2,  0,  2,  1,  0,\n",
    "  1,  2,  2,  1, -1, -1,  3,  2, -1,  1,  0,  4,  0,  2,  3, -1,  3,  2,\n",
    " -1,  4,  1,  2,  2,  3,  3,  0,  2,  1,  2,  2, -1,  0,  3,  4,  2,  4,\n",
    "  3, -1, -1,  0,  3,  3,  2,  0,  2,  4,  0,  2,  3,  3,  4,  0,  3,  2,\n",
    "  0,  2,  1,  4,  4,  1,  0,  1,  1,  2,  0,  2,  0,  2,  1,  2,  2,  1,\n",
    "  4, -1,  0,  3,  1,  2,  3,  4,  2,  2,  3,  2,  1,  2,  2,  3, -1,  2,\n",
    "  0,  3,  2,  2,  2,  2,  2,  4,  3,  3,  1, -1,  2,  1,  0,  4,  0,  0,\n",
    "  2, -1,  2,  1,  3,  2, -1,  1,  0, -1,  2,  4,  4, -1,  2,  0,  3,  1,\n",
    "  2,  4,  1,  2, -1,  2,  2,  3,  1,  3,  4,  0,  4,  1,  2,  2, -1, -1,\n",
    "  1,  0,  4,  3,  1,  2,  3,  2,  0,  2, -1,  0, -1,  2,  3,  1,  2, -1,\n",
    "  4,  2,  1,  3,  0,  2,  0, -1,  4,  0,  2,  2,  3,  2,  1,  3,  3, -1,\n",
    " -1, -1,  2,  0,  2,  2,  2,  0,  1,  0,  1,  3,  2, -1,  1,  3,  0,  2,\n",
    " -1,  2,  1,  2,  1,  2,  4,  0,  4,  2,  4,  2,  3,  0, -1,  1,  2,  2,\n",
    " -1,  2, -1,  4,  1, -1,  3,  2,  4,  2,  0,  4,  4,  4,  1,  3,  3,  0,\n",
    "  0,  0,  2,  3,  3,  4, -1,  0,  1,  0,  2,  3,  0,  3,  2,  0,  0,  0,\n",
    "  2,  0,  1,  3,  0,  2,  2,  4,  1,  2,  4,  2,  3, -1,  3,  1,  2,  3,\n",
    "  4, -1,  3,  1,  3,  2,  1,  1,  2,  0,  2,  2,  1,  4,  0,  4,  0,  3,\n",
    "  1,  4,  3,  3,  2,  2,  3,  0,  3,  4,  2,  3, -1,  0, -1,  2,  2,  3,\n",
    "  2,  2,  2,  1,  2,  1,  2,  1,  2,  1,  4,  0,  2,  1,  3,  3, -1,  2,\n",
    "  1,  3, -1,  2, -1,  2,  0,  3, -1,  2,  4,  2,  2, -1,  4, -1,  3,  2,\n",
    " -1,  3,  0, -1, -1, -1,  3,  1,  3, -1,  0,  4,  3,  1,  1,  2,  3,  0,\n",
    "  4,  3,  0, -1,  0]"
   ]
  },
  {
   "cell_type": "code",
   "execution_count": 19,
   "metadata": {},
   "outputs": [],
   "source": [
    "y_test = [ 2, -1, -1,  2,  1,  3,  1,  1,  2,  0,  0,  2,  4,  2, -1,  0,  2,  3,\n",
    " -1, -1,  3,  4,  0, -1,  3, -1,  0, -1, -1,  0,  4, -1, -1,  2,  0,  2,\n",
    " -1,  4,  2,  1,  1,  0, -1,  4,  1, -1,  2, -1,  3,  1,  1,  4,  4,  2,\n",
    "  3,  0,  0,  2,  4, -1,  0,  2,  4, -1,  3,  0,  4, -1, -1,  0,  0,  0,\n",
    "  1,  1, -1,  2,  1,  0, -1,  1, -1,  1,  2,  3, -1, -1,  2,  1,  2,  2,\n",
    "  1, -1,  3,  3,  3,  1,  2,  3,  3,  1,  1,  1, -1,  0, -1,  1,  0,  4,\n",
    "  4,  1,  4,  0,  4,  2,  2,  3,  4,  3,  1,  2,  2,  1,  3,  0, -1,  1,\n",
    "  1,  0,  0,  2,  3,  0,  1,  1,  3,  3,  2,  2,  3,  0, -1,  0,  1,  0,\n",
    "  4, -1, -1,  2,  3,  0,  0,  1,  2,  2,  2,  2,  4,  1,  3,  1,  4,  4,\n",
    "  0,  1,  4,  1,  3,  1, -1,  1,  2,  3,  3, -1,  1,  3,  4,  1,  3,  4,\n",
    "  2,  2,  4,  0,  1,  2,  0,  0,  2,  1,  2,  0,  3,  0, -1,  2,  0,  3,\n",
    "  2,  3,  4,  0,  0,  0,  4,  4,  2, -1,  1, -1,  4, -1,  2,  4,  4,  4,\n",
    "  1,  0,  2,  4,  0,  2, -1,  3,  0,  3,  2,  1,  3,  0,  1,  3,  3,  2,\n",
    "  2,  4,  2,  4,  4, -1,  2,  2,  2,  0,  2,  0,  0,  0,  2,  3,  4,  2,\n",
    "  2,  3,  2,  2, -1,  2,  0,  3,  3,  3,  0,  3, -1, -1,  1,  1,  0,  1,\n",
    " -1, -1,  3,  3,  1,  4,  3, -1,  4,  4,  3, -1,  2,  0,  3,  2,  1,  1,\n",
    "  3,  1, -1,  2,  1, -1, -1,  3,  2,  0,  2,  1,  0,  2,  0,  1,  2,  3,\n",
    "  3,  2,  3,  2,  0,  2, -1,  3,  0, -1,  2, -1,  2,  1,  2,  1,  0,  2,\n",
    "  0,  3, -1,  3,  2,  4,  4,  3,  4, -1, -1,  0,  2,  1,  2, -1,  2,  1,\n",
    "  0,  2,  3,  2, -1, -1,  1, -1,  0,  2,  2,  2,  2,  2,  2, -1,  0,  2,\n",
    "  3,  3,  4,  1,  0,  1,  3, -1,  4, -1,  3,  3, -1,  3,  2,  1,  3,  2,\n",
    " -1,  2,  3,  2,  3,  2,  4,  1, -1,  3,  3,  1,  2,  0,  3, -1,  4,  1,\n",
    "  3, -1, -1,  2,  0,  1,  2,  2,  4,  3,  2,  2, -1,  2,  2,  0,  3,  3,\n",
    "  2,  0, -1,  3,  3, -1,  2, -1,  4,  4,  1,  0,  2,  2,  0,  2,  1,  0,\n",
    "  1,  2,  2,  1, -1, -1,  3,  2, -1,  1,  0,  4,  0,  2,  3, -1,  3,  2,\n",
    " -1,  4,  1,  2,  2,  3,  3,  0,  2,  1,  2,  2, -1,  0,  3,  4,  2,  4,\n",
    "  4, -1, -1,  0,  3,  3,  2,  0,  2,  4,  0,  2,  3,  3,  4,  0,  3,  2,\n",
    "  0,  2,  1,  4,  4,  1,  0,  1,  1,  2,  0,  2,  0,  2,  1,  2,  2,  1,\n",
    "  4, -1,  0,  3,  1,  2,  3,  4,  2,  2,  0,  2,  1,  2,  2,  3, -1,  2,\n",
    "  0,  3,  2,  2,  2,  2,  2,  4,  3,  3,  1, -1,  2,  1,  0,  2,  0,  0,\n",
    "  2, -1,  2,  1,  3,  2, -1,  1,  0, -1,  2,  4,  4, -1,  3,  0,  3,  1,\n",
    "  2,  4,  1,  2,  1,  2,  2,  3,  1,  3,  4,  2,  4,  1,  2,  2, -1, -1,\n",
    "  1,  0,  4,  3,  1,  2,  3,  2,  0,  2, -1,  0, -1,  2,  3,  1,  2, -1,\n",
    "  4,  2,  1,  3,  0,  2,  0, -1,  4,  1,  2,  2,  3,  2,  1,  3,  3, -1,\n",
    " -1, -1,  2,  0,  2,  2,  2,  0,  1,  0,  1,  3,  2, -1,  0,  3,  0,  2,\n",
    " -1,  2,  1,  2,  1,  2,  4,  0,  4,  2,  4,  2,  3,  0, -1,  1,  2,  2,\n",
    " -1,  2, -1,  3,  1, -1,  3,  2,  4,  2,  1,  4,  4,  4,  1,  3,  3,  0,\n",
    "  0,  0,  2,  4,  3,  4, -1,  0,  1,  0,  2,  3,  0,  3,  2,  0,  0,  0,\n",
    "  2,  0,  1,  3,  0,  2,  2,  4,  1,  2,  4,  2,  3, -1,  3, -1,  2,  3,\n",
    "  4, -1,  3,  1,  3,  2,  1,  1,  2,  0,  2,  2,  1,  4,  0,  4,  0,  3,\n",
    "  1,  4,  3,  3,  2,  2,  3,  0,  3,  4,  2,  3, -1,  0, -1,  2,  2,  3,\n",
    "  2,  2,  2,  1,  2,  1,  2,  1,  2,  1,  4,  0,  2,  1,  3,  3, -1,  2,\n",
    "  1,  2, -1,  2, -1,  2,  0,  3, -1,  2,  4,  2,  2, -1,  4, -1,  3,  4,\n",
    " -1,  3,  0, -1, -1, -1,  3,  1,  3, -1,  0,  4,  3,  1,  1,  2,  3,  0,\n",
    "  4,  3,  0, -1,  0]"
   ]
  },
  {
   "cell_type": "code",
   "execution_count": 20,
   "metadata": {},
   "outputs": [
    {
     "name": "stdout",
     "output_type": "stream",
     "text": [
      "              precision    recall  f1-score   support\n",
      "\n",
      "       other       0.97      0.93      0.95       120\n",
      "     youtube       0.95      0.96      0.96       124\n",
      " amazonprime       0.93      0.97      0.95       120\n",
      "     netflix       0.98      0.99      0.98       207\n",
      "youtube-live       0.97      0.98      0.97       136\n",
      " twitch-live       0.97      0.93      0.95        90\n",
      "\n",
      "    accuracy                           0.96       797\n",
      "   macro avg       0.96      0.96      0.96       797\n",
      "weighted avg       0.96      0.96      0.96       797\n",
      "\n"
     ]
    }
   ],
   "source": [
    "from sklearn.metrics import classification_report\n",
    "target_names = ['other', 'youtube', 'amazonprime', 'netflix', 'youtube-live', 'twitch-live']\n",
    "print(classification_report(y_test, y_pred, target_names=target_names))"
   ]
  },
  {
   "cell_type": "code",
   "execution_count": null,
   "metadata": {},
   "outputs": [],
   "source": []
  }
 ],
 "metadata": {
  "kernelspec": {
   "display_name": "Python 3 (clean)",
   "language": "python",
   "name": "python3_clean"
  },
  "language_info": {
   "codemirror_mode": {
    "name": "ipython",
    "version": 3
   },
   "file_extension": ".py",
   "mimetype": "text/x-python",
   "name": "python",
   "nbconvert_exporter": "python",
   "pygments_lexer": "ipython3",
   "version": "3.7.6"
  }
 },
 "nbformat": 4,
 "nbformat_minor": 4
}
